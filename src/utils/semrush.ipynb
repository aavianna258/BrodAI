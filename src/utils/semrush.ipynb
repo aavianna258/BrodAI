{
 "cells": [
  {
   "cell_type": "code",
   "execution_count": 1,
   "metadata": {},
   "outputs": [],
   "source": [
    "import requests\n",
    "import os\n",
    "\n",
    "key = os.environ[\"SEMRUSH_API_KEY\"]\n",
    "\n",
    "response = requests.get(\"https://api.github.com\")"
   ]
  },
  {
   "cell_type": "code",
   "execution_count": 2,
   "metadata": {},
   "outputs": [
    {
     "name": "stdout",
     "output_type": "stream",
     "text": [
      "b'1590310'\n"
     ]
    }
   ],
   "source": [
    "print(requests.get(\n",
    "    'http://www.semrush.com/users/countapiunits.html',\n",
    "    params={\"key\": key}).content)"
   ]
  },
  {
   "cell_type": "code",
   "execution_count": 6,
   "metadata": {},
   "outputs": [],
   "source": [
    "#def get_kwd_report(domain: str):\n",
    "domain = \"https://endpoints.ai.cloud.ovh.net/\"\n",
    "url = \"https://api.semrush.com\"\n",
    "region = \"fr\"\n",
    "display_limit = 10\n",
    "request_params = {\"key\": key, \"type\": \"domain_organic_subdomains\", \"domain\": domain, \"database\": region, \"display_limit\":display_limit}\n",
    "kwd_report = requests.get(url=url, params=request_params)"
   ]
  },
  {
   "cell_type": "code",
   "execution_count": 10,
   "metadata": {},
   "outputs": [
    {
     "name": "stdout",
     "output_type": "stream",
     "text": [
      "Url;Number of Keywords;Traffic;Traffic (%)\n",
      "mail.ovh.net;1891;99632;80.88\n",
      "ex3.mail.ovh.net;226;4740;3.85\n",
      "panneau-pocket.s3.gra.perf.cloud.ovh.net;18142;4016;3.26\n",
      "proof.ovh.net;716;2186;1.77\n",
      "ex2.mail.ovh.net;36;2060;1.67\n",
      "ex.mail.ovh.net;250;1842;1.50\n",
      "status.isp.ovh.net;117;1553;1.26\n",
      "associatvo.cluster003.ovh.net;1466;1474;1.20\n",
      "planetems.cluster014.ovh.net;479;908;0.74\n",
      "zimbra1.mail.ovh.net;24;696;0.56\n",
      "\n"
     ]
    }
   ],
   "source": [
    "import pandas as pd\n",
    "import io   \n",
    "\n",
    "report_string = kwd_report.text.strip('\\r')\n",
    "print(report_string)\n",
    "df = pd.read_csv(io.StringIO(report_string), sep=\";\")\n",
    "print(df.head())\n"
   ]
  },
  {
   "cell_type": "code",
   "execution_count": 11,
   "metadata": {},
   "outputs": [
    {
     "name": "stdout",
     "output_type": "stream",
     "text": [
      "                                        Url  Number of Keywords  Traffic  \\\n",
      "0                              mail.ovh.net                1891    99632   \n",
      "1                          ex3.mail.ovh.net                 226     4740   \n",
      "2  panneau-pocket.s3.gra.perf.cloud.ovh.net               18142     4016   \n",
      "3                             proof.ovh.net                 716     2186   \n",
      "4                          ex2.mail.ovh.net                  36     2060   \n",
      "\n",
      "   Traffic (%)  \n",
      "0        80.88  \n",
      "1         3.85  \n",
      "2         3.26  \n",
      "3         1.77  \n",
      "4         1.67  \n"
     ]
    }
   ],
   "source": [
    "df = pd.read_csv(io.StringIO(report_string), sep=\";\")\n",
    "print(df.head())"
   ]
  }
 ],
 "metadata": {
  "kernelspec": {
   "display_name": ".venv",
   "language": "python",
   "name": "python3"
  },
  "language_info": {
   "codemirror_mode": {
    "name": "ipython",
    "version": 3
   },
   "file_extension": ".py",
   "mimetype": "text/x-python",
   "name": "python",
   "nbconvert_exporter": "python",
   "pygments_lexer": "ipython3",
   "version": "3.12.7"
  }
 },
 "nbformat": 4,
 "nbformat_minor": 2
}
